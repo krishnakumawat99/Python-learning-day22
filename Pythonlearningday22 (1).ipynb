{
  "nbformat": 4,
  "nbformat_minor": 0,
  "metadata": {
    "colab": {
      "provenance": []
    },
    "kernelspec": {
      "name": "python3",
      "display_name": "Python 3"
    },
    "language_info": {
      "name": "python"
    }
  },
  "cells": [
    {
      "cell_type": "code",
      "execution_count": null,
      "metadata": {
        "id": "Ewk7n0cdV0Zh"
      },
      "outputs": [],
      "source": [
        "# inheritance\n",
        "class parent:\n",
        "    id=10\n",
        "\n",
        "class child(parent):\n",
        "    def __init__(self):\n",
        "        print(self.id)\n",
        "        print(parent.id)"
      ]
    },
    {
      "cell_type": "code",
      "source": [
        "c1=child()"
      ],
      "metadata": {
        "colab": {
          "base_uri": "https://localhost:8080/"
        },
        "id": "Rfi5Z00DV6OX",
        "outputId": "49843cf8-c903-4266-d4ca-6f60c55d0230"
      },
      "execution_count": null,
      "outputs": [
        {
          "output_type": "stream",
          "name": "stdout",
          "text": [
            "10\n",
            "10\n"
          ]
        }
      ]
    },
    {
      "cell_type": "code",
      "source": [
        "# single level\n",
        "# multiple\n",
        "# multi-level\n",
        "# hierachal\n",
        "# hybrid"
      ],
      "metadata": {
        "id": "LaYfAhI3V9KL"
      },
      "execution_count": null,
      "outputs": []
    },
    {
      "cell_type": "code",
      "source": [
        "# multi-level\n",
        "class GP:\n",
        "  amount=500\n",
        "\n",
        "class Father(GP):\n",
        "  business=100000\n",
        "\n",
        "class child(Father):\n",
        "    spend=500"
      ],
      "metadata": {
        "id": "4PZBsXeSZyUr"
      },
      "execution_count": null,
      "outputs": []
    },
    {
      "cell_type": "code",
      "source": [
        "class GP:\n",
        "  def __init__(self):\n",
        "   self.amount=500\n",
        "\n",
        "class Father(GP):\n",
        "  def __init__(self):\n",
        "   self.business=100000\n",
        "\n",
        "#class child(Father):\n",
        "#  def __init__(self):\n",
        "#   self.spend=500\n",
        "#   super().__init__() #constructor of father\n",
        "#   GP.__init__(self)"
      ],
      "metadata": {
        "id": "z9-Dyg82WkoP"
      },
      "execution_count": null,
      "outputs": []
    },
    {
      "cell_type": "code",
      "source": [
        "c1=child()\n",
        "c1.amount"
      ],
      "metadata": {
        "colab": {
          "base_uri": "https://localhost:8080/"
        },
        "id": "pLggjSx5XMuX",
        "outputId": "e82bf241-62d5-41fd-f026-19daea3d0183"
      },
      "execution_count": null,
      "outputs": [
        {
          "output_type": "execute_result",
          "data": {
            "text/plain": [
              "500"
            ]
          },
          "metadata": {},
          "execution_count": 14
        }
      ]
    },
    {
      "cell_type": "code",
      "source": [
        "class GP1:\n",
        "  def __init__(self):\n",
        "   self.amount=500\n",
        "\n",
        "class Father(GP1):\n",
        "  def __init__(self):\n",
        "   self.business=100000\n",
        "   super().__init__() #constructor of GP1 class\n",
        "\n",
        "f1=Father()\n",
        "print(f1.business)\n",
        "print(f1.amount)"
      ],
      "metadata": {
        "colab": {
          "base_uri": "https://localhost:8080/"
        },
        "id": "lbsgIqUwXfkk",
        "outputId": "f4b012af-b940-488f-824e-4a5ae8ed8523"
      },
      "execution_count": null,
      "outputs": [
        {
          "output_type": "stream",
          "name": "stdout",
          "text": [
            "100000\n",
            "500\n"
          ]
        }
      ]
    },
    {
      "cell_type": "code",
      "source": [
        "class GP1:\n",
        "  def __init__(self):\n",
        "   self.amount=5000\n",
        "\n",
        "class Father(GP1):\n",
        "  def __init__(self):\n",
        "   self.business=100000\n",
        "   super().__init__() #constructor of GP1 class\n",
        "\n",
        "class kri(Father):\n",
        "  def __init__(self):\n",
        "   self.spend=500\n",
        "   super().__init__()"
      ],
      "metadata": {
        "id": "ursdPuOEaV8W"
      },
      "execution_count": null,
      "outputs": []
    },
    {
      "cell_type": "code",
      "source": [
        "k1=kri()\n",
        "print(k1.spend)\n",
        "print(k1.business)\n",
        "print(k1.amount)"
      ],
      "metadata": {
        "colab": {
          "base_uri": "https://localhost:8080/"
        },
        "id": "oRW91y4WbDke",
        "outputId": "301f2a6a-d36b-4cda-b582-aa740a73b36e"
      },
      "execution_count": null,
      "outputs": [
        {
          "output_type": "stream",
          "name": "stdout",
          "text": [
            "500\n",
            "100000\n",
            "5000\n"
          ]
        }
      ]
    },
    {
      "cell_type": "code",
      "source": [
        "# multiple\n",
        "class multipl:\n",
        "  def mul(self,a,b):\n",
        "    return a*b\n",
        "\n",
        "class addNo:\n",
        "  def add(self,a,b):\n",
        "    return a+b"
      ],
      "metadata": {
        "id": "LJ-8qMiwecgD"
      },
      "execution_count": null,
      "outputs": []
    },
    {
      "cell_type": "code",
      "source": [
        "class multipl1:\n",
        "  def mul1(self,x,y):\n",
        "    return x*y\n",
        "\n",
        "class addNo1:\n",
        "  def add1(self,c,d):\n",
        "    return c+d\n",
        "\n",
        "class Arithm(addNo1,multipl1):\n",
        "  def divideno(self,e,f):\n",
        "    return e/f"
      ],
      "metadata": {
        "id": "3pXaTs0NcWjw"
      },
      "execution_count": null,
      "outputs": []
    },
    {
      "cell_type": "code",
      "source": [
        "c1=Arithm()\n",
        "print(c1.divideno(20,5))\n",
        "print(c1.add1(20,5))\n",
        "print(c1.mul1(20,5))"
      ],
      "metadata": {
        "colab": {
          "base_uri": "https://localhost:8080/"
        },
        "id": "ai76ozB6eTAJ",
        "outputId": "5ba8eec6-e44a-48e4-b3dc-b81be0a38e80"
      },
      "execution_count": null,
      "outputs": [
        {
          "output_type": "stream",
          "name": "stdout",
          "text": [
            "4.0\n",
            "25\n",
            "100\n"
          ]
        }
      ]
    },
    {
      "cell_type": "code",
      "source": [
        "class multipl1:\n",
        "  def calculation(self,x,y):\n",
        "    return x*y\n",
        "\n",
        "class addNo1:\n",
        "  def calculation(self,c,d):\n",
        "    return c+d\n",
        "\n",
        "class Arithm(multipl1,addNo1):\n",
        "  def divideno(self,e,f):\n",
        "    return e/f"
      ],
      "metadata": {
        "id": "WrkQ4DPmeaIC"
      },
      "execution_count": null,
      "outputs": []
    },
    {
      "cell_type": "code",
      "source": [
        "c1=Arithm()\n",
        "c1.calculation(20,5)"
      ],
      "metadata": {
        "colab": {
          "base_uri": "https://localhost:8080/"
        },
        "id": "bpBcUEHsgOxM",
        "outputId": "18bbaf1d-7173-4f62-d5bf-4122f2d3c88f"
      },
      "execution_count": null,
      "outputs": [
        {
          "output_type": "execute_result",
          "data": {
            "text/plain": [
              "100"
            ]
          },
          "metadata": {},
          "execution_count": 46
        }
      ]
    },
    {
      "cell_type": "code",
      "source": [
        "class A:\n",
        "    def methodA(self):\n",
        "        print(\"Class A\")\n",
        "\n",
        "class B(A):\n",
        "    def methodB(self):\n",
        "        print(\"Class B\")\n",
        "\n",
        "class C(A):\n",
        "    def methodC(self):\n",
        "        print(\"Class C\")\n",
        "\n",
        "class D(B, C):  # Multiple + Hierarchical\n",
        "    def methodD(self):\n",
        "        print(\"Class D\")"
      ],
      "metadata": {
        "id": "GP18l4ULgVnJ"
      },
      "execution_count": null,
      "outputs": []
    },
    {
      "cell_type": "code",
      "source": [
        "obj = D()\n",
        "obj.methodA()  # Output: Class A"
      ],
      "metadata": {
        "colab": {
          "base_uri": "https://localhost:8080/"
        },
        "id": "l2afDfEBirvI",
        "outputId": "86fe119a-ba8d-4ac1-979a-71b00a3c25a2"
      },
      "execution_count": null,
      "outputs": [
        {
          "output_type": "stream",
          "name": "stdout",
          "text": [
            "Class A\n"
          ]
        }
      ]
    },
    {
      "cell_type": "code",
      "source": [
        "# polymorhphism\n",
        "# poly + morphism\n",
        "# multiple + forms\n",
        "# object, methods => alag way dekh sakte ho toh called polymorhphism\n",
        "# method overloading\n",
        "# method overriding\n",
        "# operator overloading"
      ],
      "metadata": {
        "id": "fisRnREmi5QO"
      },
      "execution_count": null,
      "outputs": []
    },
    {
      "cell_type": "code",
      "source": [
        "# method overloding\n",
        "# func(a,b)"
      ],
      "metadata": {
        "id": "1hiWAlLlj7Tl"
      },
      "execution_count": null,
      "outputs": []
    },
    {
      "cell_type": "code",
      "source": [
        "class father:\n",
        "  def func(self,a,b):\n",
        "    print(\"father class:\",a+b)\n",
        "\n",
        "class child(father):\n",
        "  def func(self,a,b):\n",
        "    print(\"child class:\",a*b*c)"
      ],
      "metadata": {
        "id": "ako1MJ81kcJv"
      },
      "execution_count": null,
      "outputs": []
    },
    {
      "cell_type": "code",
      "source": [
        "f1=father()\n",
        "f1.func(10,20)"
      ],
      "metadata": {
        "colab": {
          "base_uri": "https://localhost:8080/"
        },
        "id": "2JTctPOTkstV",
        "outputId": "ac1bc50c-d772-4515-83b1-b4721088cc2f"
      },
      "execution_count": null,
      "outputs": [
        {
          "output_type": "stream",
          "name": "stdout",
          "text": [
            "father class: 30\n"
          ]
        }
      ]
    },
    {
      "cell_type": "code",
      "source": [
        "# method overriding\n",
        "class father:\n",
        "  def func(self,a,b):\n",
        "    print(\"father class:\",a+b)\n",
        "\n",
        "class child(father):\n",
        "  def func(self,x,y):\n",
        "    print(\"child class:\",x*y)"
      ],
      "metadata": {
        "id": "lh2HyLuxm9nr"
      },
      "execution_count": null,
      "outputs": []
    },
    {
      "cell_type": "code",
      "source": [
        "c1=child()\n",
        "c1.func(10,20)"
      ],
      "metadata": {
        "colab": {
          "base_uri": "https://localhost:8080/"
        },
        "id": "F6FybrlYkvZ3",
        "outputId": "5cfb5e81-23a2-43e7-ebb1-75a560db6d49"
      },
      "execution_count": null,
      "outputs": [
        {
          "output_type": "stream",
          "name": "stdout",
          "text": [
            "child class: 200\n"
          ]
        }
      ]
    },
    {
      "cell_type": "code",
      "source": [],
      "metadata": {
        "id": "sLtAyMvMmCp-"
      },
      "execution_count": null,
      "outputs": []
    }
  ]
}